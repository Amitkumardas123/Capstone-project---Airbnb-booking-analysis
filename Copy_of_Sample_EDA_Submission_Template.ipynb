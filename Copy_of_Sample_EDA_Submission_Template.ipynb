{
  "nbformat": 4,
  "nbformat_minor": 0,
  "metadata": {
    "colab": {
      "private_outputs": true,
      "provenance": [],
      "collapsed_sections": [
        "mDgbUHAGgjLW",
        "F6T5p64dYrdO",
        "y-Ehk30pYrdP",
        "UV0SzAkaZNRQ",
        "YPEH6qLeZNRQ",
        "EXh0U9oCveiU",
        "22aHeOlLveiV",
        "gCX9965dhzqZ",
        "gIfDvo9L0UH2"
      ],
      "include_colab_link": true
    },
    "kernelspec": {
      "name": "python3",
      "display_name": "Python 3"
    },
    "language_info": {
      "name": "python"
    }
  },
  "cells": [
    {
      "cell_type": "markdown",
      "metadata": {
        "id": "view-in-github",
        "colab_type": "text"
      },
      "source": [
        "<a href=\"https://colab.research.google.com/github/Amitkumardas123/Capstone-project---Airbnb-booking-analysis/blob/main/Copy_of_Sample_EDA_Submission_Template.ipynb\" target=\"_parent\"><img src=\"https://colab.research.google.com/assets/colab-badge.svg\" alt=\"Open In Colab\"/></a>"
      ]
    },
    {
      "cell_type": "markdown",
      "source": [
        "# **Project Name**    - Airbnb Booking Analysis"
      ],
      "metadata": {
        "id": "vncDsAP0Gaoa"
      }
    },
    {
      "cell_type": "markdown",
      "source": [
        "##### **Project Type**    - EDA\n",
        "##### **Contribution**    - Individual\n"
      ],
      "metadata": {
        "id": "beRrZCGUAJYm"
      }
    },
    {
      "cell_type": "markdown",
      "source": [
        "# **Project Summary -**"
      ],
      "metadata": {
        "id": "FJNUwmbgGyua"
      }
    },
    {
      "cell_type": "markdown",
      "source": [
        "Write the summary here within 500-600 words."
      ],
      "metadata": {
        "id": "F6v_1wHtG2nS"
      }
    },
    {
      "cell_type": "markdown",
      "source": [
        "# **GitHub Link -**"
      ],
      "metadata": {
        "id": "w6K7xa23Elo4"
      }
    },
    {
      "cell_type": "markdown",
      "source": [
        "https://github.com/Amitkumardas123/Capstone-project---Airbnb-booking-analysis"
      ],
      "metadata": {
        "id": "h1o69JH3Eqqn"
      }
    },
    {
      "cell_type": "markdown",
      "source": [
        "# **Problem Statement**\n"
      ],
      "metadata": {
        "id": "yQaldy8SH6Dl"
      }
    },
    {
      "cell_type": "markdown",
      "source": [
        "Airbnb is an online marketplace that connects people who want to rent out their property with people who are looking for accommodations, typically for short stays.\n",
        "\n",
        "1.Find top 5 different hosts according there areas?\n",
        "\n",
        "2.Which host charging highest price according room type?\n",
        "\n",
        "3.Finding room type and their price according their areas?\n",
        "\n",
        "4.Which host are the busiest and its reason?\n",
        "\n",
        "5.What is the room count in datset according to the listing of dataset?\n"
      ],
      "metadata": {
        "id": "DpeJGUA3kjGy"
      }
    },
    {
      "cell_type": "markdown",
      "source": [
        "#### **Define Your Business Objective?**"
      ],
      "metadata": {
        "id": "PH-0ReGfmX4f"
      }
    },
    {
      "cell_type": "markdown",
      "source": [
        "Answer Here."
      ],
      "metadata": {
        "id": "PhDvGCAqmjP1"
      }
    },
    {
      "cell_type": "markdown",
      "source": [
        "# **General Guidelines** : -  "
      ],
      "metadata": {
        "id": "mDgbUHAGgjLW"
      }
    },
    {
      "cell_type": "markdown",
      "source": [
        "1.   Well-structured, formatted, and commented code is required.\n",
        "2.   Exception Handling, Production Grade Code & Deployment Ready Code will be a plus. Those students will be awarded some additional credits.\n",
        "     \n",
        "     The additional credits will have advantages over other students during Star Student selection.\n",
        "       \n",
        "             [ Note: - Deployment Ready Code is defined as, the whole .ipynb notebook should be executable in one go\n",
        "                       without a single error logged. ]\n",
        "\n",
        "3.   Each and every logic should have proper comments.\n",
        "4. You may add as many number of charts you want. Make Sure for each and every chart the following format should be answered.\n",
        "        \n",
        "\n",
        "```\n",
        "# Chart visualization code\n",
        "```\n",
        "            \n",
        "\n",
        "*   Why did you pick the specific chart?\n",
        "*   What is/are the insight(s) found from the chart?\n",
        "* Will the gained insights help creating a positive business impact?\n",
        "Are there any insights that lead to negative growth? Justify with specific reason.\n",
        "\n",
        "5. You have to create at least 20 logical & meaningful charts having important insights.\n",
        "\n",
        "\n",
        "[ Hints : - Do the Vizualization in  a structured way while following \"UBM\" Rule.\n",
        "\n",
        "U - Univariate Analysis,\n",
        "\n",
        "B - Bivariate Analysis (Numerical - Categorical, Numerical - Numerical, Categorical - Categorical)\n",
        "\n",
        "M - Multivariate Analysis\n",
        " ]\n",
        "\n",
        "\n",
        "\n"
      ],
      "metadata": {
        "id": "ZrxVaUj-hHfC"
      }
    },
    {
      "cell_type": "markdown",
      "source": [
        "# ***Let's Begin !***"
      ],
      "metadata": {
        "id": "O_i_v8NEhb9l"
      }
    },
    {
      "cell_type": "markdown",
      "source": [
        "## ***1. Know Your Data***"
      ],
      "metadata": {
        "id": "HhfV-JJviCcP"
      }
    },
    {
      "cell_type": "markdown",
      "source": [
        "### Import Libraries"
      ],
      "metadata": {
        "id": "Y3lxredqlCYt"
      }
    },
    {
      "cell_type": "code",
      "source": [
        "# Import Libraries\n",
        "import pandas as pd\n",
        "import numpy as np\n",
        "from datetime import datetime\n",
        "from numpy import math\n",
        "\n",
        "import matplotlib.pyplot as plt\n",
        "import seaborn as sns\n",
        "%matplotlib inline\n",
        "\n",
        "import warnings\n",
        "warnings.filterwarnings('ignore')"
      ],
      "metadata": {
        "id": "M8Vqi-pPk-HR"
      },
      "execution_count": null,
      "outputs": []
    },
    {
      "cell_type": "markdown",
      "source": [
        "### Dataset Loading"
      ],
      "metadata": {
        "id": "3RnN4peoiCZX"
      }
    },
    {
      "cell_type": "code",
      "source": [
        "from google.colab import drive\n",
        "drive.mount('/content/drive')"
      ],
      "metadata": {
        "id": "TEZGdPBJN85S"
      },
      "execution_count": null,
      "outputs": []
    },
    {
      "cell_type": "code",
      "source": [
        "# Load Dataset\n",
        "Airbnb_df = pd.read_csv('/content/drive/MyDrive/Full Stack Data Science/Python Programming/Capstone project EDA/Airbnb NYC 2019.csv')"
      ],
      "metadata": {
        "id": "4CkvbW_SlZ_R"
      },
      "execution_count": null,
      "outputs": []
    },
    {
      "cell_type": "markdown",
      "source": [
        "### Dataset First View"
      ],
      "metadata": {
        "id": "x71ZqKXriCWQ"
      }
    },
    {
      "cell_type": "code",
      "source": [
        "# Dataset First Look\n",
        "Airbnb_df.head()"
      ],
      "metadata": {
        "id": "LWNFOSvLl09H"
      },
      "execution_count": null,
      "outputs": []
    },
    {
      "cell_type": "markdown",
      "source": [
        "### Dataset Rows & Columns count"
      ],
      "metadata": {
        "id": "7hBIi_osiCS2"
      }
    },
    {
      "cell_type": "code",
      "source": [
        "# Dataset Rows & Columns count\n",
        "Airbnb_df.shape"
      ],
      "metadata": {
        "id": "Kllu7SJgmLij"
      },
      "execution_count": null,
      "outputs": []
    },
    {
      "cell_type": "markdown",
      "source": [
        "### Dataset Information"
      ],
      "metadata": {
        "id": "JlHwYmJAmNHm"
      }
    },
    {
      "cell_type": "code",
      "source": [
        "# Dataset Info\n",
        "Airbnb_df.info()"
      ],
      "metadata": {
        "id": "e9hRXRi6meOf"
      },
      "execution_count": null,
      "outputs": []
    },
    {
      "cell_type": "markdown",
      "source": [
        "#### Duplicate Values"
      ],
      "metadata": {
        "id": "35m5QtbWiB9F"
      }
    },
    {
      "cell_type": "code",
      "source": [
        "# Dataset Duplicate Value\n",
        "Airbnb_df.drop_duplicates(inplace=True)"
      ],
      "metadata": {
        "id": "1sLdpKYkmox0"
      },
      "execution_count": null,
      "outputs": []
    },
    {
      "cell_type": "code",
      "source": [
        "Airbnb_df.shape"
      ],
      "metadata": {
        "id": "U2ejhfx3VzJD"
      },
      "execution_count": null,
      "outputs": []
    },
    {
      "cell_type": "markdown",
      "source": [
        "Dataframe shape remain same that means there is no duplicate values in our Dataset"
      ],
      "metadata": {
        "id": "GPgo5qLsWNHo"
      }
    },
    {
      "cell_type": "markdown",
      "source": [
        "#### Missing Values/Null Values"
      ],
      "metadata": {
        "id": "PoPl-ycgm1ru"
      }
    },
    {
      "cell_type": "code",
      "source": [
        "# Missing Values/Null Values Count\n",
        "Airbnb_df.isnull().sum()"
      ],
      "metadata": {
        "id": "GgHWkxvamxVg"
      },
      "execution_count": null,
      "outputs": []
    },
    {
      "cell_type": "code",
      "source": [
        "# Visualizing the missing values"
      ],
      "metadata": {
        "id": "3q5wnI3om9sJ"
      },
      "execution_count": null,
      "outputs": []
    },
    {
      "cell_type": "code",
      "source": [
        "# Calculate the percentage of missing values in each column\n",
        "missing_percentage = (Airbnb_df.isnull().mean() * 100).sort_values(ascending=False)\n",
        "# Create a bar chart\n",
        "plt.figure(figsize=(10, 5))\n",
        "sns.barplot(x=missing_percentage, y=missing_percentage.index, palette='viridis')\n",
        "plt.xlabel('Percentage of Missing Values')\n",
        "plt.ylabel('Columns')\n",
        "plt.title('Percentage of Missing Values by Column')\n",
        "plt.show()"
      ],
      "metadata": {
        "id": "4yaUyi-9l1Qq"
      },
      "execution_count": null,
      "outputs": []
    },
    {
      "cell_type": "markdown",
      "source": [
        "### What did you know about your dataset?"
      ],
      "metadata": {
        "id": "H0kj-8xxnORC"
      }
    },
    {
      "cell_type": "markdown",
      "source": [
        "This is a Airbnb booking analysis data,year of 2018 - 2019.This data find includes all needed information to find out more about hosts,geographically availabilility,necessary metrics to make predictions and draw visulization.\n",
        "\n",
        "The above dataset has 48895 rows and 16 columns. There are some  mising values are present and have no duplicate values in the dataset.\n",
        "\n",
        "```\n",
        "# This is formatted as code\n",
        "```\n",
        "\n"
      ],
      "metadata": {
        "id": "gfoNAAC-nUe_"
      }
    },
    {
      "cell_type": "markdown",
      "source": [
        "## ***2. Understanding Your Variables***"
      ],
      "metadata": {
        "id": "nA9Y7ga8ng1Z"
      }
    },
    {
      "cell_type": "markdown",
      "source": [
        "id :- This is a unique identifier for each listing in the dataset.\n",
        "\n",
        "name :- This is the name or title of the listing, as it appears on the Airbnb website.\n",
        "\n",
        "Host_id :- This is a unique identifier for each host in the dataset.\n",
        "\n",
        "Host_name :- This is the name of the host as it appears on the Airbnb website.\n",
        "\n",
        "Neighbourhood_group :- This is a grouping of neighborhoods in New York City, such as Manhattan or Brooklyn.\n",
        "\n",
        "Neighbourhood :- This is the specific neighborhood in which the listing is located.\n",
        "\n",
        "Latitude :- This is the geographic latitude of the listing.\n",
        "\n",
        "Longitude :- This is the geographic longitude of the listing.\n",
        "\n",
        "Room_type :- This is the type of room or property being offered, such as an entire home, private room, shared room.\n",
        "\n",
        "Price :- This is the nightly price for the listing, in US dollars.\n",
        "\n",
        "Minimum_nights :- This is the minimum number of nights that a guest must stay at the listing.\n",
        "\n",
        "Total_reviews :- This is the total number of reviews that the listing has received.\n",
        "\n",
        "Reviews_per_month :- This is the average number of reviews that the listing receives per month.\n",
        "\n",
        "Host_listings_count :- This is the total number of listings that the host has on Airbnb.\n",
        "\n",
        "Availability_365 :- This is the number of days in the next 365 days that the listing is available for booking."
      ],
      "metadata": {
        "id": "-t40eLU1pTLd"
      }
    },
    {
      "cell_type": "code",
      "source": [
        "# Dataset Columns\n",
        "Airbnb_df.columns"
      ],
      "metadata": {
        "id": "j7xfkqrt5Ag5"
      },
      "execution_count": null,
      "outputs": []
    },
    {
      "cell_type": "markdown",
      "source": [
        "# **Dropping unnecessary columns**"
      ],
      "metadata": {
        "id": "vLkMXHyK1wt2"
      }
    },
    {
      "cell_type": "code",
      "source": [
        "Airbnb_df.drop(['latitude','longitude'],axis=1,inplace=True)"
      ],
      "metadata": {
        "id": "9-gV9ZAi2ePq"
      },
      "execution_count": null,
      "outputs": []
    },
    {
      "cell_type": "code",
      "source": [
        "Airbnb_df.head(2)"
      ],
      "metadata": {
        "id": "NBXfoB7S3RRD"
      },
      "execution_count": null,
      "outputs": []
    },
    {
      "cell_type": "code",
      "source": [
        "# Dataset Describe\n",
        "Airbnb_df.describe()"
      ],
      "metadata": {
        "id": "DnOaZdaE5Q5t"
      },
      "execution_count": null,
      "outputs": []
    },
    {
      "cell_type": "markdown",
      "source": [
        "### Variables Description"
      ],
      "metadata": {
        "id": "PBTbrJXOngz2"
      }
    },
    {
      "cell_type": "markdown",
      "source": [],
      "metadata": {
        "id": "aJV4KIxSnxay"
      }
    },
    {
      "cell_type": "markdown",
      "source": [
        "### Check Unique Values for each variable."
      ],
      "metadata": {
        "id": "u3PMJOP6ngxN"
      }
    },
    {
      "cell_type": "code",
      "source": [
        "# Check Unique Values for each variable.\n",
        "unique_value_var = Airbnb_df.apply(lambda col: col.unique())\n",
        "unique_value_var\n"
      ],
      "metadata": {
        "id": "zms12Yq5n-jE"
      },
      "execution_count": null,
      "outputs": []
    },
    {
      "cell_type": "code",
      "source": [
        "unique_value_var[4:5].values"
      ],
      "metadata": {
        "id": "PtLW_900DwKa"
      },
      "execution_count": null,
      "outputs": []
    },
    {
      "cell_type": "markdown",
      "source": [
        "## 3. ***Data Wrangling***"
      ],
      "metadata": {
        "id": "dauF4eBmngu3"
      }
    },
    {
      "cell_type": "markdown",
      "source": [
        "### Data Wrangling Code"
      ],
      "metadata": {
        "id": "bKJF3rekwFvQ"
      }
    },
    {
      "cell_type": "code",
      "source": [
        "# Write your code to make your dataset analysis ready.\n",
        "Airbnb_df.fillna({'name':'not present','host_name':'absent','last_review':np.nan,'reviews_per_month':0},inplace=True)"
      ],
      "metadata": {
        "id": "wk-9a2fpoLcV"
      },
      "execution_count": null,
      "outputs": []
    },
    {
      "cell_type": "code",
      "source": [
        "Airbnb_df.isnull().sum()"
      ],
      "metadata": {
        "id": "LirWQcnQB4Z_"
      },
      "execution_count": null,
      "outputs": []
    },
    {
      "cell_type": "code",
      "source": [
        "#check extremly low value in price coloumn and availability_365\n",
        "Airbnb_df[(Airbnb_df['price'] == 0) & (Airbnb_df['availability_365'] != 0)]"
      ],
      "metadata": {
        "id": "IFJ8cWDECGHq"
      },
      "execution_count": null,
      "outputs": []
    },
    {
      "cell_type": "code",
      "source": [
        "# exclude the price data which value is 0\n",
        "Airbnb_df = Airbnb_df.loc[Airbnb_df['price']>0]"
      ],
      "metadata": {
        "id": "gEuX-3aTN4Cp"
      },
      "execution_count": null,
      "outputs": []
    },
    {
      "cell_type": "code",
      "source": [
        "Airbnb_df.shape"
      ],
      "metadata": {
        "id": "lRaYuMCKN3_h"
      },
      "execution_count": null,
      "outputs": []
    },
    {
      "cell_type": "code",
      "source": [
        "Airbnb_df.describe()"
      ],
      "metadata": {
        "id": "27dPhDSlPyMQ"
      },
      "execution_count": null,
      "outputs": []
    },
    {
      "cell_type": "markdown",
      "source": [
        "### What all manipulations have you done and insights you found?"
      ],
      "metadata": {
        "id": "MSa1f5Uengrz"
      }
    },
    {
      "cell_type": "markdown",
      "source": [
        "Answer Here."
      ],
      "metadata": {
        "id": "LbyXE7I1olp8"
      }
    },
    {
      "cell_type": "markdown",
      "source": [
        "## ***4. Data Vizualization, Storytelling & Experimenting with charts : Understand the relationships between variables***"
      ],
      "metadata": {
        "id": "GF8Ens_Soomf"
      }
    },
    {
      "cell_type": "markdown",
      "source": [
        "# #### 1.Find top 5 different hosts according there areas?"
      ],
      "metadata": {
        "id": "0wOQAZs5pc--"
      }
    },
    {
      "cell_type": "code",
      "source": [
        "# Chart - 1 visualization code\n",
        "Host_area = Airbnb_df.groupby(['host_name','neighbourhood_group'])['calculated_host_listings_count'].max().reset_index().sort_values(by='calculated_host_listings_count', ascending=False).head(5)\n",
        "\n",
        "Host_area['Hostname_according_area'] = Host_area['host_name']+'-'+Host_area['neighbourhood_group']"
      ],
      "metadata": {
        "id": "7v_ESjsspbW7"
      },
      "execution_count": null,
      "outputs": []
    },
    {
      "cell_type": "code",
      "source": [
        "#visulize the data\n",
        "Area = Host_area['Hostname_according_area']\n",
        "host_count = Host_area['calculated_host_listings_count']\n",
        "\n",
        "plt.bar(Area,host_count,color= 'blue',width = 0.5)\n",
        "plt.rcParams['figure.figsize'] = (12,5)\n",
        "\n"
      ],
      "metadata": {
        "id": "UaELRzuLWvSq"
      },
      "execution_count": null,
      "outputs": []
    },
    {
      "cell_type": "markdown",
      "source": [
        "##### 1. Why did you pick the specific chart?"
      ],
      "metadata": {
        "id": "K5QZ13OEpz2H"
      }
    },
    {
      "cell_type": "markdown",
      "source": [
        "Bar chart usually use to check how a particular variable varies across different type of another variable thats why i choose this bar chart"
      ],
      "metadata": {
        "id": "XESiWehPqBRc"
      }
    },
    {
      "cell_type": "markdown",
      "source": [
        "##### 2. What is/are the insight(s) found from the chart?"
      ],
      "metadata": {
        "id": "lQ7QKXXCp7Bj"
      }
    },
    {
      "cell_type": "markdown",
      "source": [
        "We can see most number of listing from Manhattan in the name of Sonder(nyc) then Blueground and Kara. secondly in Brooklyn in the name of Blueground and Kazuya.Thats mean this people has most number of property to be used an Airbnb"
      ],
      "metadata": {
        "id": "C_j1G7yiqdRP"
      }
    },
    {
      "cell_type": "markdown",
      "source": [
        "# #### 2.Which host charging highest price according room type?"
      ],
      "metadata": {
        "id": "EM7whBJCYoAo"
      }
    },
    {
      "cell_type": "code",
      "source": [
        "# Chart - 2 visualization code\n",
        "price = Airbnb_df.groupby(['host_name','room_type'])['price'].max().reset_index()\n",
        "Price_= price.sort_values(by='price',ascending=False).head(10)\n",
        "Price_"
      ],
      "metadata": {
        "id": "t6GMdE67YoAp"
      },
      "execution_count": null,
      "outputs": []
    },
    {
      "cell_type": "code",
      "source": [
        "Hosts= Price_['host_name']\n",
        "Prise = Price_['price']\n",
        "\n",
        "\n",
        "plt.bar(Hosts,Prise, color ='maroon',\n",
        "        width = 0.5)\n",
        "plt.xlabel(\"Name of the Host\")\n",
        "plt.ylabel(\"Price\")\n",
        "plt.title(\"Expensesible Hosts\")\n",
        "plt.show()\n"
      ],
      "metadata": {
        "id": "w7vew1BH22p8"
      },
      "execution_count": null,
      "outputs": []
    },
    {
      "cell_type": "markdown",
      "source": [
        "# 3.Finding room type and their average price according their areas?\n"
      ],
      "metadata": {
        "id": "4Of9eVA-YrdM"
      }
    },
    {
      "cell_type": "code",
      "source": [
        "# Chart - 3 visualization code\n",
        "price_area= Airbnb_df.groupby(['neighbourhood_group','room_type'])['price'].mean().unstack()\n",
        "price_area.head()"
      ],
      "metadata": {
        "id": "irlUoxc8YrdO"
      },
      "execution_count": null,
      "outputs": []
    },
    {
      "cell_type": "code",
      "source": [
        "price_area.plot(kind= \"box\")\n",
        "plt.rcParams['figure.figsize'] = (8,5)\n",
        "plt.title(' Average Price distribution by room type')\n",
        "plt.xlabel('Room type')\n",
        "plt.ylabel('Average price')"
      ],
      "metadata": {
        "id": "9L9ZzoDPAdIC"
      },
      "execution_count": null,
      "outputs": []
    },
    {
      "cell_type": "markdown",
      "source": [
        "##### 1. Why did you pick the specific chart?"
      ],
      "metadata": {
        "id": "iky9q4vBYrdO"
      }
    },
    {
      "cell_type": "markdown",
      "source": [
        "Answer Here."
      ],
      "metadata": {
        "id": "aJRCwT6DYrdO"
      }
    },
    {
      "cell_type": "markdown",
      "source": [
        "##### 2. What is/are the insight(s) found from the chart?"
      ],
      "metadata": {
        "id": "F6T5p64dYrdO"
      }
    },
    {
      "cell_type": "markdown",
      "source": [
        "Answer Here"
      ],
      "metadata": {
        "id": "Xx8WAJvtYrdO"
      }
    },
    {
      "cell_type": "markdown",
      "source": [
        "##### 3. Will the gained insights help creating a positive business impact?\n",
        "Are there any insights that lead to negative growth? Justify with specific reason."
      ],
      "metadata": {
        "id": "y-Ehk30pYrdP"
      }
    },
    {
      "cell_type": "markdown",
      "source": [
        "Answer Here"
      ],
      "metadata": {
        "id": "jLNxxz7MYrdP"
      }
    },
    {
      "cell_type": "markdown",
      "source": [
        "Answer Here"
      ],
      "metadata": {
        "id": "PSx9atu2YklI"
      }
    },
    {
      "cell_type": "markdown",
      "source": [
        "## #### 4.Most prefered room type in terms of price ?"
      ],
      "metadata": {
        "id": "bamQiAODYuh1"
      }
    },
    {
      "cell_type": "code",
      "source": [
        "# Chart - 5 visualization code\n",
        "preferd_room = Airbnb_df.groupby(['room_type','price'])['number_of_reviews'].max().reset_index()\n",
        "preferd_room.head()"
      ],
      "metadata": {
        "id": "TIJwrbroYuh3"
      },
      "execution_count": null,
      "outputs": []
    },
    {
      "cell_type": "code",
      "source": [
        "area = preferd_room['price']\n",
        "price = preferd_room['number_of_reviews']\n",
        "\n",
        "plt.rcParams['figure.figsize'] = (8,5)\n",
        "\n",
        "# creating the bar plot\n",
        "plt.scatter(area, price)\n",
        "\n",
        "plt.xlabel(\"Price\")\n",
        "plt.ylabel(\"Number of Review\")\n",
        "plt.title(\"Price vs Number of Reviews\")\n",
        "plt.show()"
      ],
      "metadata": {
        "id": "onPY-KKaHl-q"
      },
      "execution_count": null,
      "outputs": []
    },
    {
      "cell_type": "markdown",
      "source": [],
      "metadata": {
        "id": "9KI1-OsAIie7"
      }
    },
    {
      "cell_type": "markdown",
      "source": [
        "##### 1. Why did you pick the specific chart?"
      ],
      "metadata": {
        "id": "QHF8YVU7Yuh3"
      }
    },
    {
      "cell_type": "markdown",
      "source": [
        "Plotting a scattergram with my data points can help me to determine whether there's a potential relationship between them."
      ],
      "metadata": {
        "id": "dcxuIMRPYuh3"
      }
    },
    {
      "cell_type": "markdown",
      "source": [
        "##### 2. What is/are the insight(s) found from the chart?"
      ],
      "metadata": {
        "id": "GwzvFGzlYuh3"
      }
    },
    {
      "cell_type": "markdown",
      "source": [
        "From the above Analysis we can say that most people prefer to stay in place where price is less."
      ],
      "metadata": {
        "id": "uyqkiB8YYuh3"
      }
    },
    {
      "cell_type": "markdown",
      "source": [
        "## #### 5.Which host are the busiest and its reason?"
      ],
      "metadata": {
        "id": "KSlN3yHqYklG"
      }
    },
    {
      "cell_type": "code",
      "source": [
        "Busy_host = Airbnb_df.groupby(['host_name','room_type'])['number_of_reviews'].max().reset_index()\n",
        "busy_hosts = Busy_host.sort_values(by='number_of_reviews', ascending=False).head(10)\n",
        "busy_hosts"
      ],
      "metadata": {
        "id": "R4YgtaqtYklH"
      },
      "execution_count": null,
      "outputs": []
    },
    {
      "cell_type": "code",
      "source": [
        "# Chart - 3 visualization code\n",
        "name = busy_hosts['host_name']\n",
        "reviews = busy_hosts['number_of_reviews']\n",
        "\n",
        "plt.bar(name, reviews, color ='green',\n",
        "        width = 0.5)\n",
        "plt.xlabel(\"Name of the Host\")\n",
        "plt.ylabel(\"Number of Reviews\")\n",
        "plt.title(\"Busiest Hosts\")\n",
        "plt.show()\n"
      ],
      "metadata": {
        "id": "ZEs_7jZnxBAD"
      },
      "execution_count": null,
      "outputs": []
    },
    {
      "cell_type": "markdown",
      "source": [
        "##### 2. What is/are the insight(s) found from the chart?"
      ],
      "metadata": {
        "id": "r2jJGEOYphqO"
      }
    },
    {
      "cell_type": "markdown",
      "source": [
        "##Busiest hosts are:\n",
        "1. Dona\n",
        "2. Ji\n",
        "3. Maya\n",
        "4. Carol\n",
        "5. Danielle\n",
        "\n",
        "##Because these hosts listed room type as Entire home and Private room which is preferred by most number of people."
      ],
      "metadata": {
        "id": "Po6ZPi4hphqO"
      }
    },
    {
      "cell_type": "markdown",
      "source": [
        "# #### 6.Most prefered area by customer according reviews?"
      ],
      "metadata": {
        "id": "OH-pJp9IphqM"
      }
    },
    {
      "cell_type": "code",
      "source": [
        "# Chart - 6 visualization code\n",
        "Prefered_area = Airbnb_df.groupby(['neighbourhood_group'])['number_of_reviews'].max().sort_values(ascending=False).reset_index()\n",
        "Prefered_area.head()"
      ],
      "metadata": {
        "id": "kuRf4wtuphqN"
      },
      "execution_count": null,
      "outputs": []
    },
    {
      "cell_type": "code",
      "source": [
        "area = Prefered_area['neighbourhood_group']\n",
        "review = Prefered_area['number_of_reviews']\n",
        "\n",
        "fig = plt.figure(figsize = (10, 5))\n",
        "\n",
        "# creating the bar plot\n",
        "plt.bar(area, review, color ='maroon',\n",
        "        width = 0.4)\n",
        "\n",
        "plt.xlabel(\"Preferd area\")\n",
        "plt.ylabel(\"Review\")\n",
        "plt.title(\"Area vs Number of reviews\")\n",
        "plt.show()"
      ],
      "metadata": {
        "id": "kq4F7rNfQDCm"
      },
      "execution_count": null,
      "outputs": []
    },
    {
      "cell_type": "markdown",
      "source": [
        "##### 2. What is/are the insight(s) found from the chart?"
      ],
      "metadata": {
        "id": "OVtJsKN_phqQ"
      }
    },
    {
      "cell_type": "markdown",
      "source": [
        "From the above visualization we found that most of the poeople prefered to stay Queens, then Manhattan, then Brooklyn ,then State island and then Bronx"
      ],
      "metadata": {
        "id": "ngGi97qjphqQ"
      }
    },
    {
      "cell_type": "markdown",
      "source": [
        "# 7.Total Reviews by Each Neighborhood Group using Pie Chart"
      ],
      "metadata": {
        "id": "k1HzhMB1Zab1"
      }
    },
    {
      "cell_type": "code",
      "source": [
        "# Group the data by neighborhood group and calculate the total number of reviews\n",
        "reviews_by_neighbourhood_group = Airbnb_df.groupby(\"neighbourhood_group\")[\"number_of_reviews\"].sum()\n",
        "\n",
        "# Create a pie chart\n",
        "plt.pie(reviews_by_neighbourhood_group, labels=reviews_by_neighbourhood_group.index, autopct='%1.1f%%')\n",
        "plt.title(\"Number of Reviews by Neighborhood Group \", fontsize='15')\n",
        "\n",
        "# Display the chart\n",
        "plt.show()\n"
      ],
      "metadata": {
        "id": "EUfxeq9-p1cl"
      },
      "execution_count": null,
      "outputs": []
    },
    {
      "cell_type": "markdown",
      "source": [
        "##### 2. What is/are the insight(s) found from the chart?"
      ],
      "metadata": {
        "id": "2cELzS2fp1cl"
      }
    },
    {
      "cell_type": "markdown",
      "source": [
        " From the above chart we found that Brooklyn has the largest share of total reviews on Airbnb, with 42.7%, followed by Manhattan with 40.0%.\n",
        "\n",
        "Queens has the third largest share of total reviews, with 13.8%, followed by the Bronx with 2.5% and Staten Island with 1.0%.\n",
        "\n",
        "The data suggests that Airbnb is more popular in Brooklyn and Manhattan compared to the other neighborhood groups.\n"
      ],
      "metadata": {
        "id": "ozQPc2_Ip1cl"
      }
    },
    {
      "cell_type": "markdown",
      "source": [
        "# 8.What is the room count in overall dataset according to the listing of room type"
      ],
      "metadata": {
        "id": "x-EpHcCOp1ci"
      }
    },
    {
      "cell_type": "code",
      "source": [
        "Room_count = Airbnb_df.groupby(['neighbourhood_group'])['room_type'].value_counts().unstack()\n",
        "Room_count.plot(kind ='bar')\n",
        "plt.xlabel('Neighbourhood group')\n",
        "plt.ylabel('Total number of room')\n",
        "plt.title('Total Room availble in different area')"
      ],
      "metadata": {
        "id": "mAQTIvtqp1cj"
      },
      "execution_count": null,
      "outputs": []
    },
    {
      "cell_type": "markdown",
      "source": [
        "##### 2. What is/are the insight(s) found from the chart?"
      ],
      "metadata": {
        "id": "8zGJKyg5p1ck"
      }
    },
    {
      "cell_type": "markdown",
      "source": [
        "We found that Manhattan have listed most number of entire room/apt and then Brooklyn,Queens,Bronx,Staten island respectively.but in case of Private room Brooklyn  has highest number of room then Manhattan,Queens,Bronx,Staten islandrespectively"
      ],
      "metadata": {
        "id": "BuELpipRW6mm"
      }
    },
    {
      "cell_type": "markdown",
      "source": [
        "# 9.Find  reviews trend per month According neighbourhood group?"
      ],
      "metadata": {
        "id": "n3dbpmDWp1ck"
      }
    },
    {
      "cell_type": "code",
      "source": [
        "Airbnb_df['review_month'] = Airbnb_df['last_review'].str[0:7]\n",
        "Airbnb_df.head()"
      ],
      "metadata": {
        "id": "bwevp1tKp1ck"
      },
      "execution_count": null,
      "outputs": []
    },
    {
      "cell_type": "code",
      "source": [
        "df = Airbnb_df[~Airbnb_df['review_month'].isna()]"
      ],
      "metadata": {
        "id": "Ks8dgqvqhubO"
      },
      "execution_count": null,
      "outputs": []
    },
    {
      "cell_type": "code",
      "source": [
        "df.shape"
      ],
      "metadata": {
        "id": "I1X2Pkmbhueh"
      },
      "execution_count": null,
      "outputs": []
    },
    {
      "cell_type": "code",
      "source": [
        "Monthly_review = df.groupby(['review_month','neighbourhood_group'])['review_month'].count().unstack()\n",
        "Monthly_review.plot()\n",
        "plt.title('Trend of  reviews according month')\n",
        "plt.xlabel('Month')\n",
        "plt.ylabel('Reviews')"
      ],
      "metadata": {
        "id": "3jZcl1X6e5iw"
      },
      "execution_count": null,
      "outputs": []
    },
    {
      "cell_type": "markdown",
      "source": [
        "#9.Stay Requirement counts by Minimum Nights."
      ],
      "metadata": {
        "id": "9khO06aJaG_9"
      }
    },
    {
      "cell_type": "code",
      "source": [
        "# Group the DataFrame by the minimum_nights column and count the number of rows in each group\n",
        "minimum_nights_counts = Airbnb_df['minimum_nights'].value_counts().reset_index()\n",
        "minimum_nights_counts.columns = ['minimum_nights', 'count']\n",
        "\n",
        "minimum_nights_counts = minimum_nights_counts.head(15)\n",
        "\n",
        "minimum_nights_counts"
      ],
      "metadata": {
        "id": "u-HkA8qedGSx"
      },
      "execution_count": null,
      "outputs": []
    },
    {
      "cell_type": "code",
      "source": [
        "minimum_nights = minimum_nights_counts['minimum_nights']\n",
        "count = minimum_nights_counts['count']\n",
        "\n",
        "# Set the figure size\n",
        "plt.figure(figsize=(12, 4))\n",
        "\n",
        "# Create the bar plot\n",
        "plt.bar(minimum_nights, count)\n",
        "\n",
        "# Add axis labels and a title\n",
        "plt.xlabel('Minimum Nights', fontsize='14')\n",
        "plt.ylabel('Count', fontsize='14')\n",
        "plt.title('Stay Requirement by Minimum Nights', fontsize='15')\n",
        "\n",
        "# Show the plot\n",
        "plt.show()"
      ],
      "metadata": {
        "id": "EflbK2JKjMe7"
      },
      "execution_count": null,
      "outputs": []
    },
    {
      "cell_type": "markdown",
      "source": [
        "The majority of listings on Airbnb have a minimum stay requirement of 1 or 2 nights, with 12717 and 11693 listings, respectively.\n",
        "\n",
        "The number of listings with a minimum stay requirement decreases as the length of stay increases, with 7998 listings requiring a minimum stay of 3 nights, and so on.\n",
        "\n",
        "There are relatively few listings with a minimum stay requirement of 30 nights or more, with 3758 and 201 listings, respectively."
      ],
      "metadata": {
        "id": "XCO2c1gjknr3"
      }
    },
    {
      "cell_type": "markdown",
      "source": [
        "#### Chart - 14 - Correlation Heatmap"
      ],
      "metadata": {
        "id": "NC_X3p0fY2L0"
      }
    },
    {
      "cell_type": "code",
      "source": [
        "# Correlation Heatmap visualization code"
      ],
      "metadata": {
        "id": "xyC9zolEZNRQ"
      },
      "execution_count": null,
      "outputs": []
    },
    {
      "cell_type": "markdown",
      "source": [
        "##### 1. Why did you pick the specific chart?"
      ],
      "metadata": {
        "id": "UV0SzAkaZNRQ"
      }
    },
    {
      "cell_type": "markdown",
      "source": [
        "Answer Here."
      ],
      "metadata": {
        "id": "DVPuT8LYZNRQ"
      }
    },
    {
      "cell_type": "markdown",
      "source": [
        "##### 2. What is/are the insight(s) found from the chart?"
      ],
      "metadata": {
        "id": "YPEH6qLeZNRQ"
      }
    },
    {
      "cell_type": "markdown",
      "source": [
        "Answer Here"
      ],
      "metadata": {
        "id": "bfSqtnDqZNRR"
      }
    },
    {
      "cell_type": "markdown",
      "source": [
        "#### Chart - 15 - Pair Plot"
      ],
      "metadata": {
        "id": "q29F0dvdveiT"
      }
    },
    {
      "cell_type": "code",
      "source": [
        "# Pair Plot visualization code"
      ],
      "metadata": {
        "id": "o58-TEIhveiU"
      },
      "execution_count": null,
      "outputs": []
    },
    {
      "cell_type": "markdown",
      "source": [
        "##### 1. Why did you pick the specific chart?"
      ],
      "metadata": {
        "id": "EXh0U9oCveiU"
      }
    },
    {
      "cell_type": "markdown",
      "source": [
        "Answer Here."
      ],
      "metadata": {
        "id": "eMmPjTByveiU"
      }
    },
    {
      "cell_type": "markdown",
      "source": [
        "##### 2. What is/are the insight(s) found from the chart?"
      ],
      "metadata": {
        "id": "22aHeOlLveiV"
      }
    },
    {
      "cell_type": "markdown",
      "source": [
        "Answer Here"
      ],
      "metadata": {
        "id": "uPQ8RGwHveiV"
      }
    },
    {
      "cell_type": "markdown",
      "source": [
        "## **5. Solution to Business Objective**"
      ],
      "metadata": {
        "id": "JcMwzZxoAimU"
      }
    },
    {
      "cell_type": "markdown",
      "source": [
        "#### What do you suggest the client to achieve Business Objective ?\n",
        "Explain Briefly."
      ],
      "metadata": {
        "id": "8G2x9gOozGDZ"
      }
    },
    {
      "cell_type": "markdown",
      "source": [
        "Answer Here."
      ],
      "metadata": {
        "id": "pASKb0qOza21"
      }
    },
    {
      "cell_type": "markdown",
      "source": [
        "# **Conclusion**"
      ],
      "metadata": {
        "id": "gCX9965dhzqZ"
      }
    },
    {
      "cell_type": "markdown",
      "source": [
        "Write the conclusion here."
      ],
      "metadata": {
        "id": "Fjb1IsQkh3yE"
      }
    },
    {
      "cell_type": "markdown",
      "source": [
        "### ***Hurrah! You have successfully completed your EDA Capstone Project !!!***"
      ],
      "metadata": {
        "id": "gIfDvo9L0UH2"
      }
    }
  ]
}